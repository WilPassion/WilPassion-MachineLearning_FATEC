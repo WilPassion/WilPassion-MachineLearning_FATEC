{
  "nbformat": 4,
  "nbformat_minor": 0,
  "metadata": {
    "colab": {
      "name": "KNN.ipynb",
      "provenance": []
    },
    "kernelspec": {
      "name": "python3",
      "display_name": "Python 3"
    }
  },
  "cells": [
    {
      "cell_type": "code",
      "metadata": {
        "id": "FmcXxg9MnGEV"
      },
      "source": [
        "import numpy as np\n",
        "import pandas as pd\n",
        "from matplotlib import pyplot as plt\n",
        "import seaborn as sns\n",
        "sns.set()\n",
        "\n",
        "from sklearn.datasets import load_breast_cancer\n",
        "from sklearn.metrics import confusion_matrix\n",
        "\n",
        "from sklearn.neighbors import KNeighborsClassifier\n",
        "from sklearn.model_selection import train_test_split\n",
        "\n",
        "cancer_mama = load_breast_cancer()\n",
        "X = pd.DataFrame(cancer_mama.data, columns=cancer_mama.feature_names)\n",
        "X = X[['mean area', 'mean compactness']]\n",
        "X\n",
        "\n",
        "y = pd.Categorical.from_codes(cancer_mama.target, cancer_mama.target_names)\n",
        "y = pd.get_dummies(y, drop_first=True)\n",
        "y\n",
        "\n",
        "X_train, X_test, y_train, y_test = train_test_split(X, y, random_state=1)\n",
        "knn = KNeighborsClassifier(n_neighbors=5, metric='euclidean')\n",
        "knn.fit(X_train, y_train)\n",
        "\n",
        "y_pred = knn.predict(X_test)\n",
        "y_pred\n",
        "\n",
        "sns.scatterplot(\n",
        "    x='mean area',\n",
        "    y='mean compactness',\n",
        "    hue='benign',\n",
        "    data=X_test.join(y_test, how='outer')\n",
        ")\n",
        "\n",
        "plt.scatter(\n",
        "    X_test['mean area'],\n",
        "    X_test['mean compactness'],\n",
        "    c=y_pred,\n",
        "    cmap='coolwarm',\n",
        "    alpha=0.7\n",
        ")\n",
        "\n",
        "confusion_matrix(y_test, y_pred)"
      ],
      "execution_count": null,
      "outputs": []
    },
    {
      "cell_type": "code",
      "metadata": {
        "id": "s_vvXVpYxofa"
      },
      "source": [
        "# Criar um dataset\n",
        "# Primeira Característica\n",
        "clima=['Ensolarado', 'Ensolarado', 'Nublado', 'Chuvoso', 'Chuvoso', 'Chuvoso', 'Nublado', \n",
        "'Ensolarado', 'Ensolarado', 'Chuvoso', 'Ensolarado', 'Nublado', 'Nublado', 'Chuvoso']\n",
        "\n",
        "# Segunda Característica\n",
        "temp=['Quente', 'Quente', 'Quente', 'Suave', 'Legal', 'Legal', 'Legal', 'Suave', \n",
        "'Legal', 'Suave', 'Suave', 'Suave', 'Quente','Suave']\n",
        "\n",
        "# Variavel alvo\n",
        "brincar=['Não','Não','Sim','Sim','Sim','Não','Sim','Não','Sim','Sim','Sim','Sim','Sim','Não']\n",
        "\n",
        "# Importando LabelEncoder\n",
        "from sklearn import preprocessing\n",
        "#criando labelEncoder\n",
        "le = preprocessing.LabelEncoder()\n",
        "\n",
        "# Convertendo string labels para numeros.\n",
        "clima_encoded = le.fit_transform(clima)\n",
        "temp_encoded = le.fit_transform(temp)\n",
        "print(clima_encoded)\n",
        "print(temp_encoded)\n",
        "\n",
        "# convertendo string labels para numeros\n",
        "alvo = le.fit_transform(brincar)\n",
        "print(alvo)\n",
        "\n",
        "# Combinando clima e temp em um unica lista de tuplas\n",
        "carac=list(zip(clima_encoded,temp_encoded))\n",
        "carac\n",
        "\n",
        "from sklearn.neighbors import KNeighborsClassifier\n",
        "modelo = KNeighborsClassifier(n_neighbors=3)\n",
        "\n",
        "# Treinando o modelo usando os ajustes de treinamento.\n",
        "modelo.fit(carac,alvo)\n",
        "\n",
        "#Predito\n",
        "predito = modelo.predict([[0,2]]) # 0:Nublado, 2:Suave\n",
        "print(predito)"
      ],
      "execution_count": null,
      "outputs": []
    },
    {
      "cell_type": "code",
      "metadata": {
        "id": "jJCnPD3X5ho8"
      },
      "source": [
        "# bibliotecas\n",
        "from sklearn.datasets import load_iris\n",
        "from sklearn.model_selection import train_test_split\n",
        "from sklearn.neighbors import KNeighborsClassifier\n",
        "\n",
        "# dataset\n",
        "iris = load_iris()\n",
        "\n",
        "# caracteristicas e alvo\n",
        "X = iris.data\n",
        "y = iris.target\n",
        "\n",
        "# treino e teste\n",
        "(X_train, X_test, y_train, y_test) = train_test_split(X,y)\n",
        "\n",
        "# instanciando o modelo\n",
        "modelo = KNeighborsClassifier()\n",
        "\n",
        "# treinando o modelo utilizando o conjunto de treino\n",
        "modelo.fit(X_train,y_train)\n",
        "\n",
        "# validando o modelo utilizando o conjunto de teste\n",
        "precisao = str(round(modelo.score(X_test,y_test) * 100, 2))+\"%\"\n",
        "\n",
        "# imprimindo o resultado\n",
        "print(\"A acurácia do modelo k-NN foi\",precisao)\n",
        "\n",
        "# predizendo o teste\n",
        "y_pred = modelo.predict(X_test)\n",
        "\n",
        "# comparando predição com o real\n",
        "from sklearn.metrics import classification_report\n",
        "print(classification_report(y_test, y_pred))"
      ],
      "execution_count": null,
      "outputs": []
    },
    {
      "cell_type": "code",
      "metadata": {
        "id": "aciY4xi_83rW"
      },
      "source": [
        "# bibliotecas\n",
        "from sklearn.datasets import load_iris\n",
        "import pandas as pd\n",
        "import matplotlib.pyplot as plt\n",
        "import seaborn as sns\n",
        "\n",
        "# dataset \n",
        "iris = load_iris()\n",
        "\n",
        "# dataset para pandas dataframe\n",
        "df = pd.DataFrame(iris.data,columns=iris.feature_names)\n",
        "df['Species'] = iris.target\n",
        "\n",
        "# mostra graficos\n",
        "sns.pairplot(df, hue='Species', vars=iris.feature_names)\n",
        "plt.show()"
      ],
      "execution_count": null,
      "outputs": []
    },
    {
      "cell_type": "code",
      "metadata": {
        "id": "EPZTPuRX-ZSo",
        "outputId": "6d2ebe33-2fa5-40d1-c803-303be87fde9b",
        "colab": {
          "base_uri": "https://localhost:8080/",
          "height": 318
        }
      },
      "source": [
        "# bibliotecas\n",
        "from sklearn.datasets import load_iris\n",
        "from sklearn.model_selection import train_test_split\n",
        "from sklearn.neighbors import KNeighborsClassifier\n",
        "from sklearn.preprocessing import Normalizer\n",
        "import numpy as np\n",
        "\n",
        "# remover warnings\n",
        "import warnings\n",
        "warnings.filterwarnings(\"ignore\")\n",
        "\n",
        "# dataset\n",
        "iris = load_iris()\n",
        "\n",
        "# caracteristicas e alvo\n",
        "X = iris.data\n",
        "y = iris.target\n",
        "\n",
        "# normalizando\n",
        "scaler = Normalizer()\n",
        "scaler.fit(X)\n",
        "X = scaler.transform(X)\n",
        "\n",
        "scores = []\n",
        "for i in range(2000):\n",
        "    X_train, X_test, y_train, y_test = train_test_split(X,y)\n",
        "    model = KNeighborsClassifier()\n",
        "    model.fit(X_train,y_train)\n",
        "    precisao = model.score(X_test,y_test)\n",
        "    scores.append(precisao)\n",
        "    \n",
        "print(\"Média: {:.2f}%\".format(np.mean(scores)*100))\n",
        "print(\"Desvio padrão: {:.2f}%\".format(np.std(scores)*100))\n",
        "\n",
        "import matplotlib.pyplot as plt\n",
        "import seaborn as sns\n",
        "sns.distplot(scores)\n",
        "plt.yticks([])\n",
        "plt.title(\"Acurácias do k-NN\")\n",
        "plt.show()"
      ],
      "execution_count": 31,
      "outputs": [
        {
          "output_type": "stream",
          "text": [
            "Média: 96.88%\n",
            "Desvio padrão: 2.71%\n"
          ],
          "name": "stdout"
        },
        {
          "output_type": "display_data",
          "data": {
            "image/png": "[encoded data removed]",
            "text/plain": [
              "<Figure size 432x288 with 1 Axes>"
            ]
          },
          "metadata": {
            "tags": []
          }
        }
      ]
    }
  ]
}